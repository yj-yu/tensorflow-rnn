{
 "cells": [
  {
   "cell_type": "code",
   "execution_count": 1,
   "metadata": {
    "collapsed": false,
    "deletable": true,
    "editable": true
   },
   "outputs": [
    {
     "data": {
      "text/plain": [
       "'\\nA Reccurent Neural Network (LSTM) implementation example using TensorFlow library.\\nThis example is using the MNIST database of handwritten digits (http://yann.lecun.com/exdb/mnist/)\\nLong Short Term Memory paper: http://deeplearning.cs.cmu.edu/pdfs/Hochreiter97_lstm.pdf\\n\\nAuthor: Aymeric Damien\\nProject: https://github.com/aymericdamien/TensorFlow-Examples/\\n'"
      ]
     },
     "execution_count": 1,
     "metadata": {},
     "output_type": "execute_result"
    }
   ],
   "source": [
    "'''\n",
    "A Reccurent Neural Network (LSTM) implementation example using TensorFlow library.\n",
    "This example is using the MNIST database of handwritten digits (http://yann.lecun.com/exdb/mnist/)\n",
    "Long Short Term Memory paper: http://deeplearning.cs.cmu.edu/pdfs/Hochreiter97_lstm.pdf\n",
    "\n",
    "Author: Aymeric Damien\n",
    "Project: https://github.com/aymericdamien/TensorFlow-Examples/\n",
    "'''"
   ]
  },
  {
   "cell_type": "code",
   "execution_count": 2,
   "metadata": {
    "collapsed": false,
    "deletable": true,
    "editable": true
   },
   "outputs": [
    {
     "name": "stdout",
     "output_type": "stream",
     "text": [
      "Extracting data/train-images-idx3-ubyte.gz\n",
      "Extracting data/train-labels-idx1-ubyte.gz\n",
      "Extracting data/t10k-images-idx3-ubyte.gz\n",
      "Extracting data/t10k-labels-idx1-ubyte.gz\n"
     ]
    }
   ],
   "source": [
    "import tensorflow as tf\n",
    "import numpy as np\n",
    "\n",
    "# Import MINST data\n",
    "from tensorflow.examples.tutorials.mnist import input_data\n",
    "mnist = input_data.read_data_sets(\"data/\", one_hot=True)"
   ]
  },
  {
   "cell_type": "code",
   "execution_count": 3,
   "metadata": {
    "collapsed": false,
    "deletable": true,
    "editable": true
   },
   "outputs": [
    {
     "data": {
      "text/plain": [
       "'\\nTo classify images using a reccurent neural network, we consider every image\\nrow as a sequence of pixels. Because MNIST image shape is 28*28px, we will then\\nhandle 28 sequences of 28 steps for every sample.\\n'"
      ]
     },
     "execution_count": 3,
     "metadata": {},
     "output_type": "execute_result"
    }
   ],
   "source": [
    "'''\n",
    "To classify images using a reccurent neural network, we consider every image\n",
    "row as a sequence of pixels. Because MNIST image shape is 28*28px, we will then\n",
    "handle 28 sequences of 28 steps for every sample.\n",
    "'''"
   ]
  },
  {
   "cell_type": "code",
   "execution_count": 4,
   "metadata": {
    "collapsed": true,
    "deletable": true,
    "editable": true
   },
   "outputs": [],
   "source": [
    "# Parameters\n",
    "learning_rate = 0.001\n",
    "training_iters = 100000\n",
    "batch_size = 128\n",
    "display_step = 10\n",
    "\n",
    "# Network Parameters\n",
    "n_input = 28 # MNIST data input (img shape: 28*28)\n",
    "n_steps = 28 # timesteps\n",
    "n_hidden = 128 # hidden layer num of features\n",
    "n_classes = 10 # MNIST total classes (0-9 digits)\n",
    "\n",
    "# tf Graph input\n",
    "x = tf.placeholder(\"float\", [None, n_steps, n_input])\n",
    "y = tf.placeholder(\"float\", [None, n_classes])\n",
    "\n",
    "# Define weights\n",
    "weights = {\n",
    "    'out': tf.Variable(tf.random_normal([n_hidden, n_classes]))\n",
    "}\n",
    "biases = {\n",
    "    'out': tf.Variable(tf.random_normal([n_classes]))\n",
    "}"
   ]
  },
  {
   "cell_type": "code",
   "execution_count": 5,
   "metadata": {
    "collapsed": false,
    "deletable": true,
    "editable": true
   },
   "outputs": [
    {
     "name": "stdout",
     "output_type": "stream",
     "text": [
      "WARNING:tensorflow:From <ipython-input-5-1caad09f2a6d>:34: initialize_all_variables (from tensorflow.python.ops.variables) is deprecated and will be removed after 2017-03-02.\n",
      "Instructions for updating:\n",
      "Use `tf.global_variables_initializer` instead.\n"
     ]
    }
   ],
   "source": [
    "def RNN(x, weights, biases):\n",
    "\n",
    "    # Prepare data shape to match `rnn` function requirements\n",
    "    # Current data input shape: (batch_size, n_steps, n_input)\n",
    "    # Required shape: 'n_steps' tensors list of shape (batch_size, n_input)\n",
    "    \n",
    "    # Permuting batch_size and n_steps\n",
    "    x = tf.transpose(x, [1, 0, 2])\n",
    "    # Reshaping to (n_steps*batch_size, n_input)\n",
    "    x = tf.reshape(x, [-1, n_input])\n",
    "    # Split to get a list of 'n_steps' tensors of shape (batch_size, n_input)\n",
    "    x = tf.split(x, n_steps, 0)\n",
    "\n",
    "    # Define a lstm cell with tensorflow\n",
    "    lstm_cell = tf.contrib.rnn.BasicLSTMCell(n_hidden, forget_bias=1.0)\n",
    "\n",
    "    # Get lstm cell output\n",
    "    outputs, states = tf.contrib.rnn.static_rnn(lstm_cell, x, dtype=tf.float32)\n",
    "\n",
    "    # Linear activation, using rnn inner loop last output\n",
    "    return tf.matmul(outputs[-1], weights['out']) + biases['out']\n",
    "\n",
    "pred = RNN(x, weights, biases)\n",
    "\n",
    "# Define loss and optimizer\n",
    "cost = tf.reduce_mean(tf.nn.softmax_cross_entropy_with_logits(logits=pred, labels=y))\n",
    "optimizer = tf.train.AdamOptimizer(learning_rate=learning_rate).minimize(cost)\n",
    "\n",
    "# Evaluate model\n",
    "correct_pred = tf.equal(tf.argmax(pred,1), tf.argmax(y,1))\n",
    "accuracy = tf.reduce_mean(tf.cast(correct_pred, tf.float32))\n",
    "\n",
    "# Initializing the variables\n",
    "init = tf.initialize_all_variables()\n",
    "\n",
    "# Create a summary to monitor cost tensor\n",
    "tf.summary.scalar(\"loss\", cost)\n",
    "# Create a summary to monitor accuracy tensor\n",
    "tf.summary.scalar(\"accuracy\", accuracy)\n",
    "# Merge all summaries into a single op\n",
    "merged_summary_op = tf.summary.merge_all()"
   ]
  },
  {
   "cell_type": "code",
   "execution_count": 6,
   "metadata": {
    "collapsed": false,
    "deletable": true,
    "editable": true,
    "scrolled": true
   },
   "outputs": [
    {
     "name": "stdout",
     "output_type": "stream",
     "text": [
      "Iter 1280, Minibatch Loss=1.850991, Training Accuracy=0.37500\n",
      "Iter 2560, Minibatch Loss=1.469731, Training Accuracy=0.51562\n",
      "Iter 3840, Minibatch Loss=1.431035, Training Accuracy=0.51562\n",
      "Iter 5120, Minibatch Loss=0.982424, Training Accuracy=0.69531\n",
      "Iter 6400, Minibatch Loss=0.994084, Training Accuracy=0.69531\n",
      "Iter 7680, Minibatch Loss=0.718169, Training Accuracy=0.78125\n",
      "Iter 8960, Minibatch Loss=0.644436, Training Accuracy=0.78906\n",
      "Iter 10240, Minibatch Loss=0.618100, Training Accuracy=0.78906\n",
      "Iter 11520, Minibatch Loss=0.421887, Training Accuracy=0.88281\n",
      "Iter 12800, Minibatch Loss=0.569169, Training Accuracy=0.82031\n",
      "Iter 14080, Minibatch Loss=0.414553, Training Accuracy=0.85938\n",
      "Iter 15360, Minibatch Loss=0.488589, Training Accuracy=0.85938\n",
      "Iter 16640, Minibatch Loss=0.454605, Training Accuracy=0.85938\n",
      "Iter 17920, Minibatch Loss=0.406162, Training Accuracy=0.89844\n",
      "Iter 19200, Minibatch Loss=0.333620, Training Accuracy=0.85938\n",
      "Iter 20480, Minibatch Loss=0.301693, Training Accuracy=0.91406\n",
      "Iter 21760, Minibatch Loss=0.432863, Training Accuracy=0.87500\n",
      "Iter 23040, Minibatch Loss=0.262039, Training Accuracy=0.90625\n",
      "Iter 24320, Minibatch Loss=0.518962, Training Accuracy=0.87500\n",
      "Iter 25600, Minibatch Loss=0.263870, Training Accuracy=0.93750\n",
      "Iter 26880, Minibatch Loss=0.236379, Training Accuracy=0.94531\n",
      "Iter 28160, Minibatch Loss=0.142551, Training Accuracy=0.94531\n",
      "Iter 29440, Minibatch Loss=0.254552, Training Accuracy=0.90625\n",
      "Iter 30720, Minibatch Loss=0.183150, Training Accuracy=0.94531\n",
      "Iter 32000, Minibatch Loss=0.348286, Training Accuracy=0.91406\n",
      "Iter 33280, Minibatch Loss=0.190060, Training Accuracy=0.93750\n",
      "Iter 34560, Minibatch Loss=0.361382, Training Accuracy=0.92188\n",
      "Iter 35840, Minibatch Loss=0.319349, Training Accuracy=0.89844\n",
      "Iter 37120, Minibatch Loss=0.195606, Training Accuracy=0.93750\n",
      "Iter 38400, Minibatch Loss=0.210143, Training Accuracy=0.92969\n",
      "Iter 39680, Minibatch Loss=0.177194, Training Accuracy=0.95312\n",
      "Iter 40960, Minibatch Loss=0.146507, Training Accuracy=0.95312\n",
      "Iter 42240, Minibatch Loss=0.189851, Training Accuracy=0.94531\n",
      "Iter 43520, Minibatch Loss=0.114747, Training Accuracy=0.95312\n",
      "Iter 44800, Minibatch Loss=0.250252, Training Accuracy=0.92188\n",
      "Iter 46080, Minibatch Loss=0.115071, Training Accuracy=0.95312\n",
      "Iter 47360, Minibatch Loss=0.173876, Training Accuracy=0.96094\n",
      "Iter 48640, Minibatch Loss=0.192100, Training Accuracy=0.96094\n",
      "Iter 49920, Minibatch Loss=0.133873, Training Accuracy=0.95312\n",
      "Iter 51200, Minibatch Loss=0.230836, Training Accuracy=0.92969\n",
      "Iter 52480, Minibatch Loss=0.122366, Training Accuracy=0.96875\n",
      "Iter 53760, Minibatch Loss=0.130333, Training Accuracy=0.94531\n",
      "Iter 55040, Minibatch Loss=0.115707, Training Accuracy=0.93750\n",
      "Iter 56320, Minibatch Loss=0.102408, Training Accuracy=0.96875\n",
      "Iter 57600, Minibatch Loss=0.213717, Training Accuracy=0.93750\n",
      "Iter 58880, Minibatch Loss=0.109637, Training Accuracy=0.96094\n",
      "Iter 60160, Minibatch Loss=0.210731, Training Accuracy=0.94531\n",
      "Iter 61440, Minibatch Loss=0.098948, Training Accuracy=0.96875\n",
      "Iter 62720, Minibatch Loss=0.076676, Training Accuracy=0.96875\n",
      "Iter 64000, Minibatch Loss=0.157073, Training Accuracy=0.96875\n",
      "Iter 65280, Minibatch Loss=0.198886, Training Accuracy=0.95312\n",
      "Iter 66560, Minibatch Loss=0.074782, Training Accuracy=0.98438\n",
      "Iter 67840, Minibatch Loss=0.073292, Training Accuracy=0.96094\n",
      "Iter 69120, Minibatch Loss=0.083488, Training Accuracy=0.96875\n",
      "Iter 70400, Minibatch Loss=0.149059, Training Accuracy=0.96875\n",
      "Iter 71680, Minibatch Loss=0.148837, Training Accuracy=0.96094\n",
      "Iter 72960, Minibatch Loss=0.081009, Training Accuracy=0.97656\n",
      "Iter 74240, Minibatch Loss=0.131656, Training Accuracy=0.95312\n",
      "Iter 75520, Minibatch Loss=0.115235, Training Accuracy=0.94531\n",
      "Iter 76800, Minibatch Loss=0.064070, Training Accuracy=0.99219\n",
      "Iter 78080, Minibatch Loss=0.118000, Training Accuracy=0.96875\n",
      "Iter 79360, Minibatch Loss=0.159600, Training Accuracy=0.96094\n",
      "Iter 80640, Minibatch Loss=0.191849, Training Accuracy=0.96094\n",
      "Iter 81920, Minibatch Loss=0.139820, Training Accuracy=0.96094\n",
      "Iter 83200, Minibatch Loss=0.093283, Training Accuracy=0.98438\n",
      "Iter 84480, Minibatch Loss=0.153460, Training Accuracy=0.95312\n",
      "Iter 85760, Minibatch Loss=0.098471, Training Accuracy=0.96094\n",
      "Iter 87040, Minibatch Loss=0.116068, Training Accuracy=0.96094\n",
      "Iter 88320, Minibatch Loss=0.164814, Training Accuracy=0.96875\n",
      "Iter 89600, Minibatch Loss=0.077761, Training Accuracy=0.97656\n",
      "Iter 90880, Minibatch Loss=0.072286, Training Accuracy=0.96875\n",
      "Iter 92160, Minibatch Loss=0.091345, Training Accuracy=0.97656\n",
      "Iter 93440, Minibatch Loss=0.081065, Training Accuracy=0.96875\n",
      "Iter 94720, Minibatch Loss=0.115442, Training Accuracy=0.96094\n",
      "Iter 96000, Minibatch Loss=0.109781, Training Accuracy=0.95312\n",
      "Iter 97280, Minibatch Loss=0.076925, Training Accuracy=0.96094\n",
      "Iter 98560, Minibatch Loss=0.058535, Training Accuracy=0.98438\n",
      "Iter 99840, Minibatch Loss=0.130346, Training Accuracy=0.96875\n",
      "Optimization Finished!\n",
      "('Testing Accuracy:{}', 0.984375)\n"
     ]
    }
   ],
   "source": [
    "\n",
    "# Launch the graph\n",
    "with tf.Session() as sess:\n",
    "    sess.run(init)\n",
    "    step = 1\n",
    "    # Write logs at every iteration\n",
    "    summary_writer = tf.summary.FileWriter('./logs', graph=tf.get_default_graph())\n",
    "    # Keep training until reach max iterations\n",
    "    while step * batch_size < training_iters:\n",
    "        batch_x, batch_y = mnist.train.next_batch(batch_size)\n",
    "        # Reshape data to get 28 seq of 28 elements\n",
    "        batch_x = batch_x.reshape((batch_size, n_steps, n_input))\n",
    "        # Run optimization op (backprop)\n",
    "        sess.run(optimizer, feed_dict={x: batch_x, y: batch_y})\n",
    "        if step % display_step == 0:\n",
    "            # Calculate batch accuracy, loss, summary\n",
    "            loss, acc, summary = sess.run([cost, accuracy, merged_summary_op], feed_dict={x: batch_x, y: batch_y})\n",
    "            print(\"Iter {}, Minibatch Loss={:.6f}, Training Accuracy={:.5f}\".format(step*batch_size,\n",
    "                                                                                    loss, acc))\n",
    "            # Write logs at every iteration\n",
    "            summary_writer.add_summary(summary, step)\n",
    "        step += 1\n",
    "    print(\"Optimization Finished!\")\n",
    "\n",
    "    # Calculate accuracy for 128 mnist test images\n",
    "    test_len = 128\n",
    "    test_data = mnist.test.images[:test_len].reshape((-1, n_steps, n_input))\n",
    "    test_label = mnist.test.labels[:test_len]\n",
    "    print(\"Testing Accuracy:{}\", sess.run(accuracy, feed_dict={x: test_data, y: test_label}))"
   ]
  },
  {
   "cell_type": "code",
   "execution_count": 7,
   "metadata": {
    "collapsed": false,
    "deletable": true,
    "editable": true,
    "scrolled": true
   },
   "outputs": [
    {
     "name": "stdout",
     "output_type": "stream",
     "text": [
      "[[[ 0.          0.          0.          0.          0.          0.          0.\n",
      "    0.          0.          0.          0.          0.          0.          0.\n",
      "    0.          0.          0.          0.          0.          0.          0.\n",
      "    0.          0.          0.          0.          0.          0.          0.        ]\n",
      "  [ 0.          0.          0.          0.          0.          0.          0.\n",
      "    0.          0.          0.          0.          0.          0.          0.\n",
      "    0.          0.          0.          0.          0.          0.          0.\n",
      "    0.          0.          0.          0.          0.          0.          0.        ]\n",
      "  [ 0.          0.          0.          0.          0.          0.          0.\n",
      "    0.          0.          0.          0.          0.          0.          0.\n",
      "    0.          0.          0.          0.          0.          0.          0.\n",
      "    0.          0.          0.          0.          0.          0.          0.        ]\n",
      "  [ 0.          0.          0.          0.          0.          0.          0.\n",
      "    0.          0.          0.          0.          0.          0.          0.\n",
      "    0.          0.          0.          0.          0.          0.          0.\n",
      "    0.          0.          0.          0.          0.          0.          0.        ]\n",
      "  [ 0.          0.          0.          0.          0.          0.          0.\n",
      "    0.          0.          0.          0.          0.          0.          0.\n",
      "    0.          0.          0.          0.          0.          0.          0.\n",
      "    0.          0.          0.          0.          0.          0.          0.        ]\n",
      "  [ 0.          0.          0.          0.          0.          0.          0.\n",
      "    0.          0.          0.          0.          0.          0.          0.\n",
      "    0.          0.          0.          0.          0.          0.          0.\n",
      "    0.          0.          0.          0.          0.          0.          0.        ]\n",
      "  [ 0.          0.          0.          0.          0.          0.          0.\n",
      "    0.          0.          0.          0.          0.          0.          0.\n",
      "    0.          0.          0.          0.          0.          0.          0.\n",
      "    0.          0.          0.          0.          0.          0.          0.        ]\n",
      "  [ 0.          0.          0.          0.          0.          0.\n",
      "    0.32941177  0.72549021  0.62352943  0.59215689  0.23529413  0.14117648\n",
      "    0.          0.          0.          0.          0.          0.          0.\n",
      "    0.          0.          0.          0.          0.          0.          0.\n",
      "    0.          0.        ]\n",
      "  [ 0.          0.          0.          0.          0.          0.\n",
      "    0.8705883   0.99607849  0.99607849  0.99607849  0.99607849  0.9450981\n",
      "    0.77647066  0.77647066  0.77647066  0.77647066  0.77647066  0.77647066\n",
      "    0.77647066  0.77647066  0.66666669  0.20392159  0.          0.          0.\n",
      "    0.          0.          0.        ]\n",
      "  [ 0.          0.          0.          0.          0.          0.\n",
      "    0.26274511  0.44705886  0.28235295  0.44705886  0.63921571  0.89019614\n",
      "    0.99607849  0.88235301  0.99607849  0.99607849  0.99607849  0.98039222\n",
      "    0.89803928  0.99607849  0.99607849  0.54901963  0.          0.          0.\n",
      "    0.          0.          0.        ]\n",
      "  [ 0.          0.          0.          0.          0.          0.          0.\n",
      "    0.          0.          0.          0.          0.06666667  0.25882354\n",
      "    0.05490196  0.26274511  0.26274511  0.26274511  0.23137257  0.08235294\n",
      "    0.92549026  0.99607849  0.41568631  0.          0.          0.          0.\n",
      "    0.          0.        ]\n",
      "  [ 0.          0.          0.          0.          0.          0.          0.\n",
      "    0.          0.          0.          0.          0.          0.          0.\n",
      "    0.          0.          0.          0.          0.32549021  0.99215692\n",
      "    0.81960791  0.07058824  0.          0.          0.          0.          0.\n",
      "    0.        ]\n",
      "  [ 0.          0.          0.          0.          0.          0.          0.\n",
      "    0.          0.          0.          0.          0.          0.          0.\n",
      "    0.          0.          0.          0.08627451  0.91372555  1.\n",
      "    0.32549021  0.          0.          0.          0.          0.          0.\n",
      "    0.        ]\n",
      "  [ 0.          0.          0.          0.          0.          0.          0.\n",
      "    0.          0.          0.          0.          0.          0.          0.\n",
      "    0.          0.          0.          0.50588238  0.99607849  0.9333334\n",
      "    0.17254902  0.          0.          0.          0.          0.          0.\n",
      "    0.        ]\n",
      "  [ 0.          0.          0.          0.          0.          0.          0.\n",
      "    0.          0.          0.          0.          0.          0.          0.\n",
      "    0.          0.          0.23137257  0.97647065  0.99607849  0.24313727\n",
      "    0.          0.          0.          0.          0.          0.          0.\n",
      "    0.        ]\n",
      "  [ 0.          0.          0.          0.          0.          0.          0.\n",
      "    0.          0.          0.          0.          0.          0.          0.\n",
      "    0.          0.          0.52156866  0.99607849  0.73333335  0.01960784\n",
      "    0.          0.          0.          0.          0.          0.          0.\n",
      "    0.        ]\n",
      "  [ 0.          0.          0.          0.          0.          0.          0.\n",
      "    0.          0.          0.          0.          0.          0.          0.\n",
      "    0.          0.03529412  0.80392164  0.97254908  0.227451    0.          0.\n",
      "    0.          0.          0.          0.          0.          0.          0.        ]\n",
      "  [ 0.          0.          0.          0.          0.          0.          0.\n",
      "    0.          0.          0.          0.          0.          0.          0.\n",
      "    0.          0.49411768  0.99607849  0.71372551  0.          0.          0.\n",
      "    0.          0.          0.          0.          0.          0.          0.        ]\n",
      "  [ 0.          0.          0.          0.          0.          0.          0.\n",
      "    0.          0.          0.          0.          0.          0.          0.\n",
      "    0.29411766  0.98431379  0.94117653  0.22352943  0.          0.          0.\n",
      "    0.          0.          0.          0.          0.          0.          0.        ]\n",
      "  [ 0.          0.          0.          0.          0.          0.          0.\n",
      "    0.          0.          0.          0.          0.          0.\n",
      "    0.07450981  0.86666673  0.99607849  0.65098041  0.          0.          0.\n",
      "    0.          0.          0.          0.          0.          0.          0.\n",
      "    0.        ]\n",
      "  [ 0.          0.          0.          0.          0.          0.          0.\n",
      "    0.          0.          0.          0.          0.          0.01176471\n",
      "    0.7960785   0.99607849  0.8588236   0.13725491  0.          0.          0.\n",
      "    0.          0.          0.          0.          0.          0.          0.\n",
      "    0.        ]\n",
      "  [ 0.          0.          0.          0.          0.          0.          0.\n",
      "    0.          0.          0.          0.          0.          0.14901961\n",
      "    0.99607849  0.99607849  0.3019608   0.          0.          0.          0.\n",
      "    0.          0.          0.          0.          0.          0.          0.\n",
      "    0.        ]\n",
      "  [ 0.          0.          0.          0.          0.          0.          0.\n",
      "    0.          0.          0.          0.          0.12156864  0.87843144\n",
      "    0.99607849  0.45098042  0.00392157  0.          0.          0.          0.\n",
      "    0.          0.          0.          0.          0.          0.          0.\n",
      "    0.        ]\n",
      "  [ 0.          0.          0.          0.          0.          0.          0.\n",
      "    0.          0.          0.          0.          0.52156866  0.99607849\n",
      "    0.99607849  0.20392159  0.          0.          0.          0.          0.\n",
      "    0.          0.          0.          0.          0.          0.          0.\n",
      "    0.        ]\n",
      "  [ 0.          0.          0.          0.          0.          0.          0.\n",
      "    0.          0.          0.          0.2392157   0.94901967  0.99607849\n",
      "    0.99607849  0.20392159  0.          0.          0.          0.          0.\n",
      "    0.          0.          0.          0.          0.          0.          0.\n",
      "    0.        ]\n",
      "  [ 0.          0.          0.          0.          0.          0.          0.\n",
      "    0.          0.          0.          0.47450984  0.99607849  0.99607849\n",
      "    0.8588236   0.15686275  0.          0.          0.          0.          0.\n",
      "    0.          0.          0.          0.          0.          0.          0.\n",
      "    0.        ]\n",
      "  [ 0.          0.          0.          0.          0.          0.          0.\n",
      "    0.          0.          0.          0.47450984  0.99607849  0.81176478\n",
      "    0.07058824  0.          0.          0.          0.          0.          0.\n",
      "    0.          0.          0.          0.          0.          0.          0.\n",
      "    0.        ]\n",
      "  [ 0.          0.          0.          0.          0.          0.          0.\n",
      "    0.          0.          0.          0.          0.          0.          0.\n",
      "    0.          0.          0.          0.          0.          0.          0.\n",
      "    0.          0.          0.          0.          0.          0.          0.        ]]]\n",
      "[[ 0.  0.  0.  0.  0.  0.  0.  1.  0.  0.]]\n"
     ]
    }
   ],
   "source": [
    "test_data = mnist.test.images[:1].reshape((-1, n_steps, n_input))\n",
    "print(test_data)\n",
    "test_label = mnist.test.labels[:1]\n",
    "print(test_label)"
   ]
  },
  {
   "cell_type": "code",
   "execution_count": 8,
   "metadata": {
    "collapsed": false,
    "deletable": true,
    "editable": true
   },
   "outputs": [
    {
     "name": "stdout",
     "output_type": "stream",
     "text": [
      "(1, 28, 28)\n"
     ]
    },
    {
     "ename": "ImportError",
     "evalue": "No module named matplotlib",
     "output_type": "error",
     "traceback": [
      "\u001b[1;31m---------------------------------------------------------------------------\u001b[0m",
      "\u001b[1;31mImportError\u001b[0m                               Traceback (most recent call last)",
      "\u001b[1;32m<ipython-input-8-04028daaa2d8>\u001b[0m in \u001b[0;36m<module>\u001b[1;34m()\u001b[0m\n\u001b[0;32m      1\u001b[0m \u001b[1;32mprint\u001b[0m\u001b[1;33m(\u001b[0m\u001b[0mtest_data\u001b[0m\u001b[1;33m.\u001b[0m\u001b[0mshape\u001b[0m\u001b[1;33m)\u001b[0m\u001b[1;33m\u001b[0m\u001b[0m\n\u001b[1;32m----> 2\u001b[1;33m \u001b[0mget_ipython\u001b[0m\u001b[1;33m(\u001b[0m\u001b[1;33m)\u001b[0m\u001b[1;33m.\u001b[0m\u001b[0mmagic\u001b[0m\u001b[1;33m(\u001b[0m\u001b[1;34mu'matplotlib inline'\u001b[0m\u001b[1;33m)\u001b[0m\u001b[1;33m\u001b[0m\u001b[0m\n\u001b[0m\u001b[0;32m      3\u001b[0m \u001b[1;32mimport\u001b[0m \u001b[0mmatplotlib\u001b[0m\u001b[1;33m.\u001b[0m\u001b[0mpyplot\u001b[0m \u001b[1;32mas\u001b[0m \u001b[0mplt\u001b[0m\u001b[1;33m\u001b[0m\u001b[0m\n\u001b[0;32m      4\u001b[0m \u001b[0mfirst_array\u001b[0m\u001b[1;33m=\u001b[0m\u001b[0mtest_data\u001b[0m\u001b[1;33m[\u001b[0m\u001b[1;36m0\u001b[0m\u001b[1;33m]\u001b[0m\u001b[1;33m\u001b[0m\u001b[0m\n\u001b[0;32m      5\u001b[0m \u001b[1;31m#Not sure you even have to do that if you just want to visualize it\u001b[0m\u001b[1;33m\u001b[0m\u001b[1;33m\u001b[0m\u001b[0m\n",
      "\u001b[1;32m/home/yj/.virtualenvs/caffe/local/lib/python2.7/site-packages/IPython/core/interactiveshell.pyc\u001b[0m in \u001b[0;36mmagic\u001b[1;34m(self, arg_s)\u001b[0m\n\u001b[0;32m   2161\u001b[0m         \u001b[0mmagic_name\u001b[0m\u001b[1;33m,\u001b[0m \u001b[0m_\u001b[0m\u001b[1;33m,\u001b[0m \u001b[0mmagic_arg_s\u001b[0m \u001b[1;33m=\u001b[0m \u001b[0marg_s\u001b[0m\u001b[1;33m.\u001b[0m\u001b[0mpartition\u001b[0m\u001b[1;33m(\u001b[0m\u001b[1;34m' '\u001b[0m\u001b[1;33m)\u001b[0m\u001b[1;33m\u001b[0m\u001b[0m\n\u001b[0;32m   2162\u001b[0m         \u001b[0mmagic_name\u001b[0m \u001b[1;33m=\u001b[0m \u001b[0mmagic_name\u001b[0m\u001b[1;33m.\u001b[0m\u001b[0mlstrip\u001b[0m\u001b[1;33m(\u001b[0m\u001b[0mprefilter\u001b[0m\u001b[1;33m.\u001b[0m\u001b[0mESC_MAGIC\u001b[0m\u001b[1;33m)\u001b[0m\u001b[1;33m\u001b[0m\u001b[0m\n\u001b[1;32m-> 2163\u001b[1;33m         \u001b[1;32mreturn\u001b[0m \u001b[0mself\u001b[0m\u001b[1;33m.\u001b[0m\u001b[0mrun_line_magic\u001b[0m\u001b[1;33m(\u001b[0m\u001b[0mmagic_name\u001b[0m\u001b[1;33m,\u001b[0m \u001b[0mmagic_arg_s\u001b[0m\u001b[1;33m)\u001b[0m\u001b[1;33m\u001b[0m\u001b[0m\n\u001b[0m\u001b[0;32m   2164\u001b[0m \u001b[1;33m\u001b[0m\u001b[0m\n\u001b[0;32m   2165\u001b[0m     \u001b[1;31m#-------------------------------------------------------------------------\u001b[0m\u001b[1;33m\u001b[0m\u001b[1;33m\u001b[0m\u001b[0m\n",
      "\u001b[1;32m/home/yj/.virtualenvs/caffe/local/lib/python2.7/site-packages/IPython/core/interactiveshell.pyc\u001b[0m in \u001b[0;36mrun_line_magic\u001b[1;34m(self, magic_name, line)\u001b[0m\n\u001b[0;32m   2082\u001b[0m                 \u001b[0mkwargs\u001b[0m\u001b[1;33m[\u001b[0m\u001b[1;34m'local_ns'\u001b[0m\u001b[1;33m]\u001b[0m \u001b[1;33m=\u001b[0m \u001b[0msys\u001b[0m\u001b[1;33m.\u001b[0m\u001b[0m_getframe\u001b[0m\u001b[1;33m(\u001b[0m\u001b[0mstack_depth\u001b[0m\u001b[1;33m)\u001b[0m\u001b[1;33m.\u001b[0m\u001b[0mf_locals\u001b[0m\u001b[1;33m\u001b[0m\u001b[0m\n\u001b[0;32m   2083\u001b[0m             \u001b[1;32mwith\u001b[0m \u001b[0mself\u001b[0m\u001b[1;33m.\u001b[0m\u001b[0mbuiltin_trap\u001b[0m\u001b[1;33m:\u001b[0m\u001b[1;33m\u001b[0m\u001b[0m\n\u001b[1;32m-> 2084\u001b[1;33m                 \u001b[0mresult\u001b[0m \u001b[1;33m=\u001b[0m \u001b[0mfn\u001b[0m\u001b[1;33m(\u001b[0m\u001b[1;33m*\u001b[0m\u001b[0margs\u001b[0m\u001b[1;33m,\u001b[0m\u001b[1;33m**\u001b[0m\u001b[0mkwargs\u001b[0m\u001b[1;33m)\u001b[0m\u001b[1;33m\u001b[0m\u001b[0m\n\u001b[0m\u001b[0;32m   2085\u001b[0m             \u001b[1;32mreturn\u001b[0m \u001b[0mresult\u001b[0m\u001b[1;33m\u001b[0m\u001b[0m\n\u001b[0;32m   2086\u001b[0m \u001b[1;33m\u001b[0m\u001b[0m\n",
      "\u001b[1;32m<decorator-gen-106>\u001b[0m in \u001b[0;36mmatplotlib\u001b[1;34m(self, line)\u001b[0m\n",
      "\u001b[1;32m/home/yj/.virtualenvs/caffe/local/lib/python2.7/site-packages/IPython/core/magic.pyc\u001b[0m in \u001b[0;36m<lambda>\u001b[1;34m(f, *a, **k)\u001b[0m\n\u001b[0;32m    191\u001b[0m     \u001b[1;31m# but it's overkill for just that one bit of state.\u001b[0m\u001b[1;33m\u001b[0m\u001b[1;33m\u001b[0m\u001b[0m\n\u001b[0;32m    192\u001b[0m     \u001b[1;32mdef\u001b[0m \u001b[0mmagic_deco\u001b[0m\u001b[1;33m(\u001b[0m\u001b[0marg\u001b[0m\u001b[1;33m)\u001b[0m\u001b[1;33m:\u001b[0m\u001b[1;33m\u001b[0m\u001b[0m\n\u001b[1;32m--> 193\u001b[1;33m         \u001b[0mcall\u001b[0m \u001b[1;33m=\u001b[0m \u001b[1;32mlambda\u001b[0m \u001b[0mf\u001b[0m\u001b[1;33m,\u001b[0m \u001b[1;33m*\u001b[0m\u001b[0ma\u001b[0m\u001b[1;33m,\u001b[0m \u001b[1;33m**\u001b[0m\u001b[0mk\u001b[0m\u001b[1;33m:\u001b[0m \u001b[0mf\u001b[0m\u001b[1;33m(\u001b[0m\u001b[1;33m*\u001b[0m\u001b[0ma\u001b[0m\u001b[1;33m,\u001b[0m \u001b[1;33m**\u001b[0m\u001b[0mk\u001b[0m\u001b[1;33m)\u001b[0m\u001b[1;33m\u001b[0m\u001b[0m\n\u001b[0m\u001b[0;32m    194\u001b[0m \u001b[1;33m\u001b[0m\u001b[0m\n\u001b[0;32m    195\u001b[0m         \u001b[1;32mif\u001b[0m \u001b[0mcallable\u001b[0m\u001b[1;33m(\u001b[0m\u001b[0marg\u001b[0m\u001b[1;33m)\u001b[0m\u001b[1;33m:\u001b[0m\u001b[1;33m\u001b[0m\u001b[0m\n",
      "\u001b[1;32m/home/yj/.virtualenvs/caffe/local/lib/python2.7/site-packages/IPython/core/magics/pylab.pyc\u001b[0m in \u001b[0;36mmatplotlib\u001b[1;34m(self, line)\u001b[0m\n\u001b[0;32m     98\u001b[0m             \u001b[1;32mprint\u001b[0m\u001b[1;33m(\u001b[0m\u001b[1;34m\"Available matplotlib backends: %s\"\u001b[0m \u001b[1;33m%\u001b[0m \u001b[0mbackends_list\u001b[0m\u001b[1;33m)\u001b[0m\u001b[1;33m\u001b[0m\u001b[0m\n\u001b[0;32m     99\u001b[0m         \u001b[1;32melse\u001b[0m\u001b[1;33m:\u001b[0m\u001b[1;33m\u001b[0m\u001b[0m\n\u001b[1;32m--> 100\u001b[1;33m             \u001b[0mgui\u001b[0m\u001b[1;33m,\u001b[0m \u001b[0mbackend\u001b[0m \u001b[1;33m=\u001b[0m \u001b[0mself\u001b[0m\u001b[1;33m.\u001b[0m\u001b[0mshell\u001b[0m\u001b[1;33m.\u001b[0m\u001b[0menable_matplotlib\u001b[0m\u001b[1;33m(\u001b[0m\u001b[0margs\u001b[0m\u001b[1;33m.\u001b[0m\u001b[0mgui\u001b[0m\u001b[1;33m)\u001b[0m\u001b[1;33m\u001b[0m\u001b[0m\n\u001b[0m\u001b[0;32m    101\u001b[0m             \u001b[0mself\u001b[0m\u001b[1;33m.\u001b[0m\u001b[0m_show_matplotlib_backend\u001b[0m\u001b[1;33m(\u001b[0m\u001b[0margs\u001b[0m\u001b[1;33m.\u001b[0m\u001b[0mgui\u001b[0m\u001b[1;33m,\u001b[0m \u001b[0mbackend\u001b[0m\u001b[1;33m)\u001b[0m\u001b[1;33m\u001b[0m\u001b[0m\n\u001b[0;32m    102\u001b[0m \u001b[1;33m\u001b[0m\u001b[0m\n",
      "\u001b[1;32m/home/yj/.virtualenvs/caffe/local/lib/python2.7/site-packages/IPython/core/interactiveshell.pyc\u001b[0m in \u001b[0;36menable_matplotlib\u001b[1;34m(self, gui)\u001b[0m\n\u001b[0;32m   2937\u001b[0m         \"\"\"\n\u001b[0;32m   2938\u001b[0m         \u001b[1;32mfrom\u001b[0m \u001b[0mIPython\u001b[0m\u001b[1;33m.\u001b[0m\u001b[0mcore\u001b[0m \u001b[1;32mimport\u001b[0m \u001b[0mpylabtools\u001b[0m \u001b[1;32mas\u001b[0m \u001b[0mpt\u001b[0m\u001b[1;33m\u001b[0m\u001b[0m\n\u001b[1;32m-> 2939\u001b[1;33m         \u001b[0mgui\u001b[0m\u001b[1;33m,\u001b[0m \u001b[0mbackend\u001b[0m \u001b[1;33m=\u001b[0m \u001b[0mpt\u001b[0m\u001b[1;33m.\u001b[0m\u001b[0mfind_gui_and_backend\u001b[0m\u001b[1;33m(\u001b[0m\u001b[0mgui\u001b[0m\u001b[1;33m,\u001b[0m \u001b[0mself\u001b[0m\u001b[1;33m.\u001b[0m\u001b[0mpylab_gui_select\u001b[0m\u001b[1;33m)\u001b[0m\u001b[1;33m\u001b[0m\u001b[0m\n\u001b[0m\u001b[0;32m   2940\u001b[0m \u001b[1;33m\u001b[0m\u001b[0m\n\u001b[0;32m   2941\u001b[0m         \u001b[1;32mif\u001b[0m \u001b[0mgui\u001b[0m \u001b[1;33m!=\u001b[0m \u001b[1;34m'inline'\u001b[0m\u001b[1;33m:\u001b[0m\u001b[1;33m\u001b[0m\u001b[0m\n",
      "\u001b[1;32m/home/yj/.virtualenvs/caffe/local/lib/python2.7/site-packages/IPython/core/pylabtools.pyc\u001b[0m in \u001b[0;36mfind_gui_and_backend\u001b[1;34m(gui, gui_select)\u001b[0m\n\u001b[0;32m    258\u001b[0m     \"\"\"\n\u001b[0;32m    259\u001b[0m \u001b[1;33m\u001b[0m\u001b[0m\n\u001b[1;32m--> 260\u001b[1;33m     \u001b[1;32mimport\u001b[0m \u001b[0mmatplotlib\u001b[0m\u001b[1;33m\u001b[0m\u001b[0m\n\u001b[0m\u001b[0;32m    261\u001b[0m \u001b[1;33m\u001b[0m\u001b[0m\n\u001b[0;32m    262\u001b[0m     \u001b[1;32mif\u001b[0m \u001b[0mgui\u001b[0m \u001b[1;32mand\u001b[0m \u001b[0mgui\u001b[0m \u001b[1;33m!=\u001b[0m \u001b[1;34m'auto'\u001b[0m\u001b[1;33m:\u001b[0m\u001b[1;33m\u001b[0m\u001b[0m\n",
      "\u001b[1;31mImportError\u001b[0m: No module named matplotlib"
     ]
    }
   ],
   "source": [
    "print(test_data.shape)\n",
    "%matplotlib inline\n",
    "import matplotlib.pyplot as plt\n",
    "first_array=test_data[0]\n",
    "#Not sure you even have to do that if you just want to visualize it\n",
    "#first_array=255*first_array\n",
    "#first_array=first_array.astype(\"uint8\")\n",
    "plt.imshow(first_array)\n",
    "print(np.argmax(test_label))"
   ]
  },
  {
   "cell_type": "code",
   "execution_count": null,
   "metadata": {
    "collapsed": true
   },
   "outputs": [],
   "source": []
  }
 ],
 "metadata": {
  "kernelspec": {
   "display_name": "Python 2",
   "language": "python",
   "name": "python2"
  },
  "language_info": {
   "codemirror_mode": {
    "name": "ipython",
    "version": 2
   },
   "file_extension": ".py",
   "mimetype": "text/x-python",
   "name": "python",
   "nbconvert_exporter": "python",
   "pygments_lexer": "ipython2",
   "version": "2.7.6"
  }
 },
 "nbformat": 4,
 "nbformat_minor": 2
}
